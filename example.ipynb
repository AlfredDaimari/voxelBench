{
 "cells": [
  {
   "cell_type": "markdown",
   "metadata": {},
   "source": [
    "# Yardstick Example\n",
    "\n",
    "This example notebook provides a simple example of how you can use the Yardstick benchmark to collect performance metrics from Minecraft-like games and how to evaluate their performance."
   ]
  },
  {
   "cell_type": "markdown",
   "metadata": {},
   "source": [
    "## Running an experiment\n",
    "\n",
    "The cell below shows you how to run a simple experiment."
   ]
  },
  {
   "cell_type": "code",
   "execution_count": 69,
   "metadata": {},
   "outputs": [
    {
     "name": "stderr",
     "output_type": "stream",
     "text": [
      "14642.70s - pydevd: Sending message related to process being replaced timed-out after 5 seconds\n",
      "5.03s - pydevd: Sending message related to process being replaced timed-out after 5 seconds\n"
     ]
    },
    {
     "name": "stdout",
     "output_type": "stream",
     "text": [
      "\n",
      "PLAY [Clean data from nodes] ***************************************************\n",
      "\n",
      "TASK [Gathering Facts] *********************************************************\n"
     ]
    },
    {
     "name": "stderr",
     "output_type": "stream",
     "text": [
      "14658.00s - pydevd: Sending message related to process being replaced timed-out after 5 seconds\n"
     ]
    }
   ],
   "source": [
    "from yardstick_benchmark.provisioning import Das\n",
    "from yardstick_benchmark.monitoring import Telegraf\n",
    "from yardstick_benchmark.games.minecraft.server import PaperMC\n",
    "from yardstick_benchmark.games.minecraft.workload import WalkAround\n",
    "import yardstick_benchmark\n",
    "from time import sleep\n",
    "from datetime import datetime\n",
    "from pathlib import Path\n",
    "import os\n",
    "\n",
    "if __name__ == \"__main__\":\n",
    "\n",
    "    ### DEPLOYMENT ENVIRONMENT ###\n",
    "\n",
    "    # The DAS compute cluster is a medium-sized cluster for research and education.\n",
    "    # We use it in this example to provision bare-metal machines to run our performance\n",
    "    # evaluation.\n",
    "    das = Das()\n",
    "    # We reserve 2 nodes.\n",
    "    nodes = das.provision(num=2)\n",
    "\n",
    "    try:\n",
    "        # Just in case, we remove data that may have been left from a previous run.\n",
    "        yardstick_benchmark.clean(nodes)\n",
    "\n",
    "        ### METRICS ###\n",
    "\n",
    "        # # Telegraf (https://www.influxdata.com/time-series-platform/telegraf/)\n",
    "        # # is the metric collection tool we use to collect performance metrics from the\n",
    "        # # nodes and any applications deployed on these nodes.\n",
    "        # telegraf = Telegraf(nodes)\n",
    "        # # We plan to deploy our Minecraft-like game server on node 0.\n",
    "        # # To obtain application level metrics from the game server,\n",
    "        # # the next two lines configure node 0 to run additional metric collection\n",
    "        # # tools.\n",
    "        # telegraf.add_input_jolokia_agent(nodes[0])\n",
    "        # telegraf.add_input_execd_minecraft_ticks(nodes[0])\n",
    "        # # Perform the actual deployment of Telegraf.\n",
    "        # # This includes downloading the Telegraf executable and preparing configuration\n",
    "        # # files.\n",
    "        # res = telegraf.deploy()\n",
    "        # # Start Telegraf on all remote nodes.\n",
    "        # telegraf.start()\n",
    "\n",
    "        ### System Under Test (SUT) ###\n",
    "\n",
    "        # PaperMC (https://papermc.io/) is the Minecraft-like game whose performance\n",
    "        # we'll evaluate in this example.\n",
    "        # We pass a list with all the nodes on which we want to deploy a server.\n",
    "        # In this example, we only deploy a server on node 0.\n",
    "        papermc = PaperMC(nodes[:1])\n",
    "        # We perform the deployment, including downloading the game executable JAR and\n",
    "        # correctly configuring the game's configuration file.\n",
    "        papermc.deploy()\n",
    "        # We start the game server.\n",
    "        papermc.start()\n",
    "\n",
    "        ### WORKLOAD ###\n",
    "\n",
    "        wl = WalkAround(nodes[1:], nodes[0].host)\n",
    "        wl.deploy()\n",
    "        wl.start()\n",
    "\n",
    "        sleep_time = 10\n",
    "        print(f\"sleeping for {sleep_time} seconds\")\n",
    "        sleep(sleep_time)\n",
    "\n",
    "        papermc.stop()\n",
    "        papermc.cleanup()\n",
    "\n",
    "        # telegraf.stop()\n",
    "        # telegraf.cleanup()\n",
    "\n",
    "        timestamp = (\n",
    "            datetime.now()\n",
    "            .isoformat(timespec=\"minutes\")\n",
    "            .replace(\"-\", \"\")\n",
    "            .replace(\":\", \"\")\n",
    "        )\n",
    "        dest = Path(f\"/var/scratch/{os.getlogin()}/yardstick/{timestamp}\")\n",
    "        yardstick_benchmark.fetch(dest, nodes)\n",
    "    finally:\n",
    "        yardstick_benchmark.clean(nodes)\n",
    "        das.release(nodes)\n"
   ]
  },
  {
   "cell_type": "markdown",
   "metadata": {},
   "source": [
    "## Loading Result Data"
   ]
  },
  {
   "cell_type": "code",
   "execution_count": 26,
   "metadata": {},
   "outputs": [],
   "source": [
    "import pandas as pd\n",
    "\n",
    "metrics_file = Path(f\"/var/scratch/{os.getlogin()}/yardstick/20240621T0027/node016/telegraf-ig2uu7rq/metrics-node016.csv\")\n",
    "\n",
    "keys = {}\n",
    "with open(metrics_file) as fin:\n",
    "    for line in fin:\n",
    "        first_delim = line.find(\",\")\n",
    "        second_delim = line.find(\",\", first_delim+1)\n",
    "        key = line[first_delim+1:second_delim]\n",
    "        if key not in keys:\n",
    "            keys[key] = open(metrics_file.parent / f\"{key}.csv\", \"w+\")\n",
    "        keys[key].write(line)\n",
    "for key, fd in keys.items():\n",
    "    fd.close()"
   ]
  },
  {
   "cell_type": "markdown",
   "metadata": {},
   "source": [
    "## Visualizing Results"
   ]
  },
  {
   "cell_type": "code",
   "execution_count": 67,
   "metadata": {},
   "outputs": [
    {
     "data": {
      "text/plain": [
       "<Axes: xlabel='Time [m]', ylabel='CPU utilization [%]'>"
      ]
     },
     "execution_count": 67,
     "metadata": {},
     "output_type": "execute_result"
    },
    {
     "data": {
      "image/png": "[encoded data removed]",
      "text/plain": [
       "<Figure size 640x480 with 1 Axes>"
      ]
     },
     "metadata": {},
     "output_type": "display_data"
    }
   ],
   "source": [
    "import seaborn as sns\n",
    "\n",
    "df = pd.read_csv(metrics_file.parent / \"cpu.csv\", names = [\"timestamp\",\"measurement\",\"core_id\",\"cpu\",\"host\",\"physical_id\",\"time_active\",\"time_guest\",\"time_guest_nice\",\"time_idle\",\"time_iowait\",\"time_irq\",\"time_nice\",\"time_softirq\",\"time_steal\",\"time_system\",\"time_user\"])\n",
    "df[\"timestamp\"] = df[\"timestamp\"].transform(lambda x: x - x.min())\n",
    "df[\"timestamp_m\"] = df[\"timestamp\"] / 60\n",
    "df = df[df.cpu == \"cpu-total\"]\n",
    "df['time_total'] = df.time_active + df.time_idle\n",
    "df['util'] = 100 * df.time_active / df.time_total\n",
    "df = df[df.groupby([\"timestamp\", \"cpu\"])[\"time_total\"].rank(ascending=False) <= 1]\n",
    "df.head()\n",
    "\n",
    "custom_params = {\"axes.spines.right\": False, \"axes.spines.top\": False}\n",
    "sns.set_theme(style=\"ticks\", rc=custom_params)\n",
    "ax = sns.lineplot(df, x=\"timestamp_m\", y=\"util\")\n",
    "ax.grid(axis=\"y\")\n",
    "ax.set_ylim(bottom=0, top=100)\n",
    "ax.set_ylabel(\"CPU utilization [%]\")\n",
    "ax.set_xlabel(\"Time [m]\")\n",
    "ax\n",
    "\n"
   ]
  },
  {
   "cell_type": "code",
   "execution_count": null,
   "metadata": {},
   "outputs": [
    {
     "data": {
      "text/plain": [
       "<Axes: xlabel='Time [m]', ylabel='Tick duration [ms]'>"
      ]
     },
     "execution_count": 68,
     "metadata": {},
     "output_type": "execute_result"
    },
    {
     "data": {
      "image/png": "[encoded data removed]",
      "text/plain": [
       "<Figure size 640x480 with 1 Axes>"
      ]
     },
     "metadata": {},
     "output_type": "display_data"
    }
   ],
   "source": [
    "# timestamp,measurement,cpu,host,usage_guest,usage_guest_nice,usage_idle,usage_iowait,usage_irq,usage_nice,usage_softirq,usage_steal,usage_system,usage_user\n",
    "df = pd.read_csv(metrics_file.parent / \"minecraft_tick_times.csv\", names = [\"timestamp\", \"label\", \"node\", \"jolokia_endpoint\", \"tick_duration_ms\"])\n",
    "df[\"timestamp\"] = df[\"timestamp\"].transform(lambda x: x - x.min())\n",
    "df[\"timestamp_m\"] = df[\"timestamp\"] / 60\n",
    "df.head()\n",
    "\n",
    "custom_params = {\"axes.spines.right\": False, \"axes.spines.top\": False}\n",
    "sns.set_theme(style=\"ticks\", rc=custom_params)\n",
    "ax = sns.lineplot(df, x=\"timestamp_m\", y=\"tick_duration_ms\")\n",
    "ax.grid(axis=\"y\")\n",
    "ax.set_ylim(bottom=0)\n",
    "ax.set_ylabel(\"Tick duration [ms]\")\n",
    "ax.set_xlabel(\"Time [m]\")\n",
    "ax"
   ]
  }
 ],
 "metadata": {
  "kernelspec": {
   "display_name": "pamuk-QFfrVgWj-py3.9",
   "language": "python",
   "name": "python3"
  },
  "language_info": {
   "codemirror_mode": {
    "name": "ipython",
    "version": 3
   },
   "file_extension": ".py",
   "mimetype": "text/x-python",
   "name": "python",
   "nbconvert_exporter": "python",
   "pygments_lexer": "ipython3",
   "version": "3.9.19"
  }
 },
 "nbformat": 4,
 "nbformat_minor": 2
}
